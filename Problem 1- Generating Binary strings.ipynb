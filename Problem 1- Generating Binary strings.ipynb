{
 "cells": [
  {
   "cell_type": "markdown",
   "metadata": {},
   "source": [
    "##  First Competitive Programming Problem"
   ]
  },
  {
   "source": [
    "### Generate All Binary Strings\n",
    "- if n=2 ['00', '01', '10', '11']\n",
    "- if n=3 ['000', '001', '010', '011', '100', '101', '110', '111']\n",
    "- if n=4 ['0000', '0001', '0010', '0011', '0100', '0101', '0110', '0111', '1000', '1001', '1010', '1011', '1100', '1101', '1110', '1111']"
   ],
   "cell_type": "code",
   "metadata": {},
   "execution_count": null,
   "outputs": []
  },
  {
   "cell_type": "code",
   "execution_count": 34,
   "metadata": {},
   "outputs": [
    {
     "name": "stdout",
     "output_type": "stream",
     "text": [
      "['000', '001', '010', '011', '100', '101', '110', '111']\n"
     ]
    }
   ],
   "source": [
    "def append_bits(x, L):\n",
    "    return [x + element for element in    L]\n",
    "\n",
    "def generate_bit(n):\n",
    "    if n == 0: return []\n",
    "    if n == 1: return [\"0\", \"1\"]\n",
    "    else:\n",
    "        return (append_bits(\"0\", generate_bit(n - 1)) + \n",
    "                append_bits(\"1\", generate_bit(n - 1)))\n",
    "                \n",
    "print(generate_bit(3))"
   ]
  },
  {
   "cell_type": "code",
   "execution_count": null,
   "metadata": {},
   "outputs": [],
   "source": [
    "generate_bits(3)\n",
    "append_bits(\"0\",[\"00\",\"01\"])n==2\n",
    "[\"000\",\"001\"]"
   ]
  },
  {
   "source": [
    "### Iterative Approach"
   ],
   "cell_type": "markdown",
   "metadata": {}
  },
  {
   "cell_type": "code",
   "execution_count": 2,
   "metadata": {},
   "outputs": [],
   "source": [
    "def append_bits(x, L):\n",
    "    return [x + element for element in    L]\n",
    "\n",
    "def generate_bits(n):\n",
    "    a = ['0','1']\n",
    "    for _ in range(1,n):\n",
    "        g = []\n",
    "        g.extend(append_bits('0', a))\n",
    "        g.extend(append_bits('1', a))\n",
    "        a = g.copy()\n",
    "    return a"
   ]
  },
  {
   "cell_type": "code",
   "execution_count": 3,
   "metadata": {},
   "outputs": [
    {
     "output_type": "execute_result",
     "data": {
      "text/plain": [
       "['000', '001', '010', '011', '100', '101', '110', '111']"
      ]
     },
     "metadata": {},
     "execution_count": 3
    }
   ],
   "source": [
    "generate_bits(3)"
   ]
  },
  {
   "cell_type": "code",
   "execution_count": null,
   "metadata": {},
   "outputs": [],
   "source": []
  }
 ],
 "metadata": {
  "kernelspec": {
   "display_name": "Python 3",
   "language": "python",
   "name": "python3"
  },
  "language_info": {
   "codemirror_mode": {
    "name": "ipython",
    "version": 3
   },
   "file_extension": ".py",
   "mimetype": "text/x-python",
   "name": "python",
   "nbconvert_exporter": "python",
   "pygments_lexer": "ipython3",
   "version": "3.7.7-final"
  }
 },
 "nbformat": 4,
 "nbformat_minor": 4
}